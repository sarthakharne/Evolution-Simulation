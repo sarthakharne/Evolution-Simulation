{
 "cells": [
  {
   "cell_type": "code",
   "execution_count": 1,
   "metadata": {},
   "outputs": [
    {
     "name": "stdout",
     "output_type": "stream",
     "text": [
      "pygame 2.5.2 (SDL 2.28.3, Python 3.10.9)\n",
      "Hello from the pygame community. https://www.pygame.org/contribute.html\n"
     ]
    }
   ],
   "source": [
    "import importlib\n",
    "\n",
    "import Environment\n",
    "import Models\n",
    "from Environment.custom_env import CustomEnvironment\n",
    "import json\n",
    "import torch\n",
    "import numpy as np\n",
    "from tqdm.notebook import tqdm\n",
    "import matplotlib.pyplot as plt\n",
    "from matplotlib.lines import Line2D\n",
    "\n",
    "from Models.ActorCritic import ActorCritic\n",
    "from Models.SoftActorCritic import SoftActorCritic\n",
    "from Models.DDQN import DoubleDQN"
   ]
  },
  {
   "cell_type": "code",
   "execution_count": 2,
   "metadata": {},
   "outputs": [],
   "source": [
    "# importlib.reload(Environment)\n",
    "# importlib.reload(Models)"
   ]
  },
  {
   "cell_type": "code",
   "execution_count": 3,
   "metadata": {},
   "outputs": [
    {
     "data": {
      "text/plain": [
       "True"
      ]
     },
     "execution_count": 3,
     "metadata": {},
     "output_type": "execute_result"
    }
   ],
   "source": [
    "torch.cuda.is_available()"
   ]
  },
  {
   "cell_type": "code",
   "execution_count": 4,
   "metadata": {},
   "outputs": [
    {
     "data": {
      "text/plain": [
       "<function TextIOWrapper.close()>"
      ]
     },
     "execution_count": 4,
     "metadata": {},
     "output_type": "execute_result"
    }
   ],
   "source": [
    "f = open('Environment/env_config_reg.json')\n",
    "env_variables = json.load(f)\n",
    "f.close"
   ]
  },
  {
   "cell_type": "code",
   "execution_count": 5,
   "metadata": {},
   "outputs": [
    {
     "name": "stdout",
     "output_type": "stream",
     "text": [
      "0.1\n"
     ]
    }
   ],
   "source": [
    "env = CustomEnvironment(env_config=env_variables, render_mode=\"n\")\n",
    "# env = parallel_env(render_mode=\"human\")\n",
    "# env.reset(seed=42)"
   ]
  },
  {
   "cell_type": "code",
   "execution_count": 6,
   "metadata": {},
   "outputs": [],
   "source": [
    "import matplotlib.pyplot as plt \n",
    "from sklearn.preprocessing import MinMaxScaler\n",
    "mms = MinMaxScaler(feature_range=(0, 128))"
   ]
  },
  {
   "cell_type": "code",
   "execution_count": 7,
   "metadata": {},
   "outputs": [
    {
     "data": {
      "text/plain": [
       "<function TextIOWrapper.close()>"
      ]
     },
     "execution_count": 7,
     "metadata": {},
     "output_type": "execute_result"
    }
   ],
   "source": [
    "ac_config = open('Environment/ac_config.json')\n",
    "ac_variables = json.load(ac_config)\n",
    "ac_config.close\n",
    "\n",
    "sac_config = open('Environment/sac_config.json')\n",
    "sac_variables = json.load(sac_config)\n",
    "sac_config.close\n",
    "\n",
    "ddqn_config = open('Environment/ddqn_config.json')\n",
    "ddqn_variables = json.load(ddqn_config)\n",
    "ddqn_config.close"
   ]
  },
  {
   "cell_type": "code",
   "execution_count": 8,
   "metadata": {},
   "outputs": [],
   "source": [
    "# ddqn_1 = DoubleDQN(ddqn_variables)\n",
    "# ddqn_2 = DoubleDQN(ddqn_variables)\n",
    "# ddqn_3 = DoubleDQN(ddqn_variables)\n",
    "ac = ActorCritic(ac_variables)\n",
    "# sac = SoftActorCritic(sac_variables)"
   ]
  },
  {
   "cell_type": "code",
   "execution_count": 9,
   "metadata": {},
   "outputs": [],
   "source": [
    "# models = {i:ddqn_1 for i in range(env.n_agents)}\n",
    "models = {0: ac}"
   ]
  },
  {
   "cell_type": "code",
   "execution_count": 10,
   "metadata": {},
   "outputs": [],
   "source": [
    "# ddqn_1.policy_net.device"
   ]
  },
  {
   "cell_type": "code",
   "execution_count": 11,
   "metadata": {},
   "outputs": [],
   "source": [
    "def plot_grad_flow(named_parameters):\n",
    "    '''Plots the gradients flowing through different layers in the net during training.\n",
    "    Can be used for checking for possible gradient vanishing / exploding problems.\n",
    "    \n",
    "    Usage: Plug this function in Trainer class after loss.backwards() as \n",
    "    \"plot_grad_flow(self.model.named_parameters())\" to visualize the gradient flow'''\n",
    "    ave_grads = []\n",
    "    max_grads= []\n",
    "    layers = []\n",
    "    for i, p in enumerate(named_parameters):\n",
    "        \n",
    "        if(p.requires_grad):\n",
    "            layers.append(i)\n",
    "            ave_grads.append(p.grad.cpu().abs().mean())\n",
    "            max_grads.append(p.grad.cpu().abs().max())\n",
    "\n",
    "    plt.bar(np.arange(len(max_grads)), max_grads, alpha=0.1, lw=1, color=\"c\")\n",
    "    plt.bar(np.arange(len(max_grads)), ave_grads, alpha=0.1, lw=1, color=\"b\")\n",
    "    plt.hlines(0, 0, len(ave_grads)+1, lw=2, color=\"k\" )\n",
    "    plt.xticks(range(0,len(ave_grads), 1), layers, rotation=\"vertical\")\n",
    "    plt.xlim(left=0, right=len(ave_grads))\n",
    "    plt.ylim(bottom = -0.001, top=0.02) # zoom in on the lower gradient regions\n",
    "    plt.xlabel(\"Layers\")\n",
    "    plt.ylabel(\"average gradient\")\n",
    "    plt.title(\"Gradient flow\")\n",
    "    plt.grid(True)\n",
    "    plt.legend([Line2D([0], [0], color=\"c\", lw=4),\n",
    "                Line2D([0], [0], color=\"b\", lw=4),\n",
    "                Line2D([0], [0], color=\"k\", lw=4)], ['max-gradient', 'mean-gradient', 'zero-gradient'])\n",
    "    plt.show()"
   ]
  },
  {
   "cell_type": "code",
   "execution_count": 12,
   "metadata": {},
   "outputs": [],
   "source": [
    "import time"
   ]
  },
  {
   "cell_type": "code",
   "execution_count": 13,
   "metadata": {},
   "outputs": [
    {
     "data": {
      "application/vnd.jupyter.widget-view+json": {
       "model_id": "56498eea455e46dea1f93d228d6a541c",
       "version_major": 2,
       "version_minor": 0
      },
      "text/plain": [
       "  0%|          | 0/100 [00:00<?, ?it/s]"
      ]
     },
     "metadata": {},
     "output_type": "display_data"
    },
    {
     "name": "stdout",
     "output_type": "stream",
     "text": [
      "0.0\n",
      "0.0\n",
      "0.0\n",
      "0.0\n",
      "0.0\n",
      "0.0\n",
      "0.0\n",
      "0.0\n",
      "0.0\n",
      "0.0\n",
      "0.0\n",
      "0.0\n",
      "0.0\n",
      "0.0\n",
      "0.0\n",
      "0.0\n",
      "0.0\n",
      "0.0\n",
      "0.0\n",
      "0.0\n",
      "0.0\n",
      "0.0\n",
      "0.0\n",
      "0.0\n",
      "0.0\n",
      "0.0\n",
      "0.0\n",
      "0.0\n",
      "0.0\n",
      "0.0\n",
      "0.0\n",
      "0.0\n",
      "0.0\n",
      "0.0\n",
      "0.0\n",
      "0.0\n",
      "0.0\n",
      "0.0\n",
      "0.0\n",
      "0.0\n",
      "0.0\n",
      "0.0\n",
      "0.0\n",
      "0.0\n",
      "0.0\n",
      "0.0\n",
      "0.0\n",
      "0.0\n",
      "0.0\n",
      "0.0\n",
      "0.0\n",
      "0.0\n",
      "0.0\n",
      "0.0\n",
      "0.0\n",
      "0.0\n",
      "0.0\n",
      "0.0\n",
      "0.0\n",
      "0.0\n",
      "0.0\n",
      "0.0\n",
      "0.0\n",
      "0.005000591278076172\n",
      "0.1015172004699707\n",
      "0.011003971099853516\n",
      "0.0009996891021728516\n",
      "0.03799796104431152\n",
      "0.0040013790130615234\n",
      "0.0009980201721191406\n",
      "0.038510799407958984\n",
      "0.0039997100830078125\n",
      "0.0009996891021728516\n",
      "0.038001060485839844\n",
      "0.003998517990112305\n",
      "0.001004934310913086\n",
      "0.036510467529296875\n",
      "0.004000186920166016\n",
      "0.0009996891021728516\n",
      "0.03699922561645508\n",
      "0.003999948501586914\n",
      "0.0009989738464355469\n",
      "0.03650546073913574\n",
      "0.003001689910888672\n",
      "0.0009999275207519531\n",
      "0.03699922561645508\n",
      "0.00400233268737793\n",
      "0.002002239227294922\n",
      "0.037523746490478516\n",
      "0.003991127014160156\n",
      "0.0009965896606445312\n",
      "0.03799581527709961\n",
      "0.0040013790130615234\n",
      "0.001003265380859375\n",
      "0.03751111030578613\n",
      "0.003999948501586914\n",
      "0.0009996891021728516\n",
      "0.03799939155578613\n",
      "0.0040051937103271484\n",
      "0.002003192901611328\n",
      "0.037512779235839844\n",
      "0.004003763198852539\n",
      "0.0019989013671875\n",
      "0.03699755668640137\n",
      "0.003999948501586914\n",
      "0.0010018348693847656\n",
      "0.03700447082519531\n",
      "0.003000020980834961\n",
      "0.0009982585906982422\n",
      "0.043009281158447266\n",
      "0.004000425338745117\n",
      "0.00099945068359375\n",
      "0.03799271583557129\n",
      "0.004003047943115234\n",
      "0.0010013580322265625\n",
      "0.038030385971069336\n",
      "0.003996610641479492\n",
      "0.0009996891021728516\n",
      "0.03699922561645508\n",
      "0.0039997100830078125\n",
      "0.0010030269622802734\n",
      "0.038004398345947266\n",
      "0.00451207160949707\n",
      "0.00099945068359375\n",
      "0.038001060485839844\n",
      "0.003998279571533203\n",
      "0.0009975433349609375\n",
      "0.03700661659240723\n",
      "0.003513336181640625\n",
      "0.001001596450805664\n",
      "0.03799939155578613\n",
      "0.0029969215393066406\n",
      "0.0009996891021728516\n",
      "0.03751873970031738\n",
      "0.005002498626708984\n",
      "0.0010020732879638672\n",
      "0.038001060485839844\n",
      "0.003998279571533203\n",
      "0.0010018348693847656\n",
      "0.03851819038391113\n",
      "0.004000186920166016\n",
      "0.0009996891021728516\n",
      "0.03699946403503418\n",
      "0.005002021789550781\n",
      "0.0009982585906982422\n",
      "0.03751850128173828\n",
      "0.0039980411529541016\n",
      "0.00099945068359375\n",
      "0.03799891471862793\n",
      "0.004001140594482422\n",
      "0.0009999275207519531\n",
      "0.038519859313964844\n",
      "0.004000186920166016\n",
      "0.0009968280792236328\n",
      "0.0390009880065918\n",
      "0.004000186920166016\n",
      "0.0009987354278564453\n",
      "0.03751397132873535\n",
      "0.004000186920166016\n",
      "0.0010023117065429688\n",
      "0.03699922561645508\n",
      "0.002997875213623047\n",
      "0.001001596450805664\n",
      "0.03751802444458008\n",
      "0.003998756408691406\n",
      "0.0009999275207519531\n",
      "0.03699898719787598\n",
      "0.004004001617431641\n",
      "0.0010001659393310547\n",
      "0.03751683235168457\n",
      "0.00299835205078125\n",
      "0.0009999275207519531\n",
      "0.037001609802246094\n",
      "0.002999544143676758\n",
      "0:  6.634 \n",
      "0.0009999275207519531\n",
      "0.03751683235168457\n",
      "0.0040013790130615234\n",
      "0.0009992122650146484\n",
      "0.03699755668640137\n",
      "0.004000186920166016\n",
      "0.002002239227294922\n",
      "0.037517547607421875\n",
      "0.003999471664428711\n",
      "0.0009996891021728516\n",
      "0.03900146484375\n",
      "0.003998517990112305\n",
      "0.0009999275207519531\n",
      "0.03954291343688965\n",
      "0.0040013790130615234\n",
      "0.00099945068359375\n",
      "0.037999629974365234\n",
      "0.003999948501586914\n",
      "0.0009989738464355469\n",
      "0.037519216537475586\n",
      "0.003997087478637695\n",
      "0.0009999275207519531\n",
      "0.03699970245361328\n",
      "0.004001140594482422\n",
      "0.0010001659393310547\n",
      "0.036522865295410156\n",
      "0.003997325897216797\n",
      "0.0010008811950683594\n",
      "0.03799939155578613\n",
      "0.004001140594482422\n",
      "0.0010035037994384766\n",
      "0.03751397132873535\n",
      "0.004000425338745117\n",
      "0.0010023117065429688\n",
      "0.03699970245361328\n",
      "0.0030002593994140625\n",
      "0.0009989738464355469\n",
      "0.03852033615112305\n",
      "0.003995656967163086\n",
      "0.0009975433349609375\n",
      "0.03899097442626953\n",
      "0.004000425338745117\n",
      "0.001999378204345703\n",
      "0.0385286808013916\n",
      "0.004002571105957031\n",
      "0.0010061264038085938\n",
      "0.038002967834472656\n",
      "0.003996610641479492\n",
      "0.0009968280792236328\n",
      "0.03851652145385742\n",
      "0.0039937496185302734\n",
      "0.0020074844360351562\n",
      "0.03699088096618652\n",
      "0.0039997100830078125\n",
      "0.0009999275207519531\n",
      "0.03751111030578613\n",
      "0.003999471664428711\n",
      "0.0009984970092773438\n",
      "0.03799891471862793\n",
      "0.0040073394775390625\n",
      "0.0009987354278564453\n",
      "0.03851318359375\n",
      "0.0039980411529541016\n",
      "0.0009996891021728516\n",
      "0.038996219635009766\n",
      "0.004004478454589844\n",
      "0.0009982585906982422\n",
      "0.0385127067565918\n",
      "0.0039975643157958984\n",
      "0.0009992122650146484\n",
      "0.038008928298950195\n",
      "0.004000186920166016\n",
      "0.0009999275207519531\n",
      "0.03751230239868164\n",
      "0.004000425338745117\n",
      "0.0009922981262207031\n",
      "0.038004159927368164\n",
      "0.003992319107055664\n",
      "0.0009999275207519531\n",
      "0.03799843788146973\n",
      "0.004000425338745117\n",
      "0.0010030269622802734\n",
      "0.037008047103881836\n",
      "0.0039980411529541016\n",
      "0.0009965896606445312\n",
      "0.037000417709350586\n",
      "0.00399470329284668\n",
      "0.0009999275207519531\n",
      "0.03700613975524902\n",
      "0.0040013790130615234\n",
      "0.0\n",
      "0.03799724578857422\n",
      "0.004000425338745117\n",
      "0.0010008811950683594\n",
      "0.04301095008850098\n",
      "0.0035037994384765625\n",
      "0.0010006427764892578\n",
      "0.038991689682006836\n",
      "0.003998994827270508\n",
      "0.00099945068359375\n",
      "0.037511348724365234\n",
      "0.004006624221801758\n",
      "0.00099945068359375\n",
      "0.03799939155578613\n",
      "0.0039975643157958984\n",
      "0.0009989738464355469\n",
      "0.0375216007232666\n",
      "0.0030012130737304688\n",
      "0.0010001659393310547\n",
      "0.03799939155578613\n",
      "0.003999948501586914\n",
      "0.0009965896606445312\n",
      "0.03753042221069336\n",
      "0.003989458084106445\n",
      "0.0019979476928710938\n"
     ]
    },
    {
     "ename": "",
     "evalue": "",
     "output_type": "error",
     "traceback": [
      "\u001b[1;31mThe Kernel crashed while executing code in the current cell or a previous cell. \n",
      "\u001b[1;31mPlease review the code in the cell(s) to identify a possible cause of the failure. \n",
      "\u001b[1;31mClick <a href='https://aka.ms/vscodeJupyterKernelCrash'>here</a> for more info. \n",
      "\u001b[1;31mView Jupyter <a href='command:jupyter.viewOutput'>log</a> for further details."
     ]
    }
   ],
   "source": [
    "episodes = 100\n",
    "episodes_returns = {}\n",
    "episodes_returns[0] = []\n",
    "\n",
    "episodes_losses = {}\n",
    "episodes_losses[0] = []\n",
    "for episode in tqdm(range(episodes)): #episodes loop\"\n",
    "\n",
    "    curr_obs,infos = env.reset() #reset environment after each episode\\n\",\n",
    "    # print(curr_obs[0][1])\n",
    "\n",
    "    losses = []\n",
    "    while(env.agents): #until there are any surviving agents \n",
    "\n",
    "        actions = {}\n",
    "        log_probs = {}\n",
    "\n",
    "        for a in env.agents:\n",
    "            # print(curr_obs[a])\n",
    "            # curr_time = time.time()\n",
    "            act, log_prob = models[a].select_action(state = curr_obs[a])\n",
    "            # print(time.time() - curr_time)\n",
    "            actions[a] = act\n",
    "            log_probs[a] = log_prob\n",
    "\n",
    "        # for i in range(env.n_agents): #objects contains all of the models, get the corresponding actions from each policy\\n\",\n",
    "            \n",
    "        #     if i in env.agents:\n",
    "        #         act, log_prob = env.agents_objects[i].brain1.select_action(state = torch.tensor(curr_obs[i], dtype = torch.float32))\n",
    "        #         actions[i] = act\n",
    "        #         log_probs[i] = log_prob\n",
    "        #     else:\n",
    "        #         actions[i] = env.num_actions\n",
    "        #         log_probs[i] = 69\n",
    "            \n",
    "        # print(actions)\n",
    "\n",
    "        next_obs, rewards, terminations, truncations, infos = env.step(actions)\n",
    "        # if env.timestep % 100 == 0:\n",
    "        #     # plot_grad_flow(models[0].policy_net.parameters())\n",
    "        #     print(rewards)\n",
    "        \n",
    "\n",
    "        for id, obs in next_obs.items():\n",
    "            # print(\"main shape\", obs[0].shape)\n",
    "            if obs is None:\n",
    "                print(env.timestep)\n",
    "                print(\"next state is None\")\n",
    "            # curr_time = time.time()\n",
    "            models[id].push_to_buffer(curr_obs[id], actions[id], rewards[id], obs, log_probs[id], terminations[id])\n",
    "            # print(time.time() - curr_time)\n",
    "\n",
    "            # curr_time = time.time()            \n",
    "            loss = models[id].update_weights()\n",
    "            # print(time.time() - curr_time)\n",
    "            # print()\n",
    "\n",
    "            if loss is not None:\n",
    "                losses.append(loss)\n",
    "            # if(terminations[id] == True):\n",
    "            #     # loss = models[id].update_weights()\n",
    "            #     print(f\"Agent {id} died at timestep {env.timestep: 3d}. Current reward {rewards[id]: .3f}.\")\n",
    "            #     losses[id] = loss\n",
    "\n",
    "\n",
    "        if env.timestep % 100 == 0:\n",
    "            for id, agent in env.agents_objects.items():\n",
    "                # plot_grad_flow(models[0].policy_net.parameters())\n",
    "                print(f\"{id}: {agent.reward: .3f}\", end=' ')\n",
    "\n",
    "            print()\n",
    "        \n",
    "        # for i in range(env.n_agents):\n",
    "\n",
    "        #     if i in env.agents:\n",
    "        #         env.agents_objects[i].brain1.push_to_buffer(torch.tensor(curr_obs[i], dtype = torch.float32),actions[i],rewards[i],torch.tensor(next_obs[i], dtype = torch.float32),log_probs[i],terminations[i])\n",
    "        #         env.agents_objects[i].brain1.update_weights() \n",
    "            \n",
    "        #     if i in env.justdie:\n",
    "        #         env.justdie[i].brain1.push_to_buffer(torch.tensor(curr_obs[i], dtype = torch.float32),actions[i],rewards[i],torch.tensor(next_obs[i], dtype = torch.float32),log_probs[i],terminations[i])\n",
    "        #         loss = env.justdie[i].brain1.update_weights() \n",
    "        #         del env.justdie[i]\n",
    "        #         losses[i] = loss\n",
    "        \n",
    "        curr_obs = next_obs\n",
    "\n",
    "        if env.timestep == env.max_episode_size - 1:\n",
    "            for agent in env.agents_objects:\n",
    "                episodes_returns[agent].append(env.agents_objects[agent].reward)\n",
    "                episodes_losses[agent].append(np.array(losses).mean())\n",
    "    \n",
    "    print(f\"Episode {episode} end\")\n",
    "    # print(len(ddqn_1.replay_buffer))\n",
    "    # print(f\"Losses {losses}\")\n",
    "    # print(episodes_returns)\n",
    "    # print(episodes_losses)\n",
    "\n",
    "    if (episode + 1) % 10 == 0:\n",
    "        # ddqn\n",
    "        # ddqn_dict = {}\n",
    "        # ddqn_dict['policy_net'] = models[0].policy_net.to('cpu').state_dict()\n",
    "        # ddqn_dict['target_net'] = models[0].target_net.to('cpu').state_dict()\n",
    "        # # torch.save(models[0].policy_net.state_dict())\n",
    "        # # torch.save(models[0].target_net.state_dict())\n",
    "        # torch.save(ddqn_dict, \"SavedWeights/DDQN_Weights.pkl\")\n",
    "        # del ddqn_dict\n",
    "        # models[0].policy_net.to(models[0].device)\n",
    "        # models[0].target_net.to(models[0].device)\n",
    "\n",
    "        # ac\n",
    "        ac_dict = {}\n",
    "        ac_dict['actor'] = models[0].actor.to('cpu').state_dict()\n",
    "        ac_dict['critic'] = models[0].critic.to('cpu').state_dict()\n",
    "        torch.save(ac_dict, \"SavedWeights/AC_Weights.pkl\")\n",
    "        del ac_dict\n",
    "        models[0].actor.to(models[0].device)\n",
    "        models[0].critic.to(models[0].device)\n",
    "        # torch.save(models[1].actor.state_dict())\n",
    "        # torch.save(models[1].critic.state_dict())\n",
    "\n",
    "        # # sac\n",
    "        # sac_dict = {}\n",
    "        # sac_dict['actor_policy_net'] = models[2].actor_policy_net.to('cpu').state_dict()\n",
    "        # sac_dict['critic_q_net'] = models[2].critic_q_net.to('cpu').state_dict()\n",
    "        # sac_dict['critic_q_target_net'] = models[2].critic_q_target_net.to('cpu').state_dict()\n",
    "        # sac_dict['log_alpha'] = models[2].log_alpha.to('cpu')\n",
    "        # torch.save(sac_dict, \"SavedWeights/SAC_Weights.pkl\")\n",
    "        # del sac_dict\n",
    "        # models[2].actor_policy_net.to(models[2].device)\n",
    "        # models[2].critic_q_net.to(models[2].device)\n",
    "        # models[2].critic_q_target_net.to(models[2].device)\n",
    "        # models[2].log_alpha.to(models[2].device)\n",
    "        # torch.save(models[1].actor_policy_net.state_dict())\n",
    "        # torch.save(models[1].critic_q_net.state_dict())\n",
    "        # torch.save(models[1].critic_q_target_net.state_dict())\n",
    "\n",
    "    env.close()"
   ]
  },
  {
   "cell_type": "code",
   "execution_count": null,
   "metadata": {},
   "outputs": [],
   "source": [
    "import matplotlib.pyplot as plt\n",
    "import matplotlib as mpl\n",
    "import seaborn as sns"
   ]
  },
  {
   "cell_type": "code",
   "execution_count": null,
   "metadata": {},
   "outputs": [
    {
     "data": {
      "text/plain": [
       "(100,)"
      ]
     },
     "execution_count": 14,
     "metadata": {},
     "output_type": "execute_result"
    }
   ],
   "source": [
    "def eps_thresh():\n",
    "    # print(np.arange(0, 100*490, 490))\n",
    "    arr = np.stack([np.arange(0, 100*490, 490), 40000 * np.ones(np.arange(0, 100*490, 490).shape[0])])\n",
    "    arr = np.min(arr, axis=0)\n",
    "    return 0.05 + (0.95 - 0.05) * np.exp(-1 * arr/40000)\n",
    "\n",
    "eps_thresh().shape"
   ]
  },
  {
   "cell_type": "code",
   "execution_count": null,
   "metadata": {},
   "outputs": [
    {
     "data": {
      "image/png": "[encoded data removed]",
      "text/plain": [
       "<Figure size 640x480 with 2 Axes>"
      ]
     },
     "metadata": {},
     "output_type": "display_data"
    }
   ],
   "source": [
    "fig, ax = plt.subplots()\n",
    "sns.lineplot(x=np.arange(episodes), y=episodes_losses[0], ax=ax, label='Loss')\n",
    "plt.legend(loc='upper right')\n",
    "plt.ylabel(\"Losses\")\n",
    "# sns.regplot(x='round', y='money', data=firm, ax=ax)\n",
    "ax2 = ax.twinx()\n",
    "sns.lineplot(x=np.arange(episodes), y=eps_thresh(), ax=ax2, color='r', label='Epsilon Threshold')\n",
    "# sb.regplot(x='round', y='dead', data=firm, ax=ax2, color='r')\n",
    "plt.legend(loc='upper left')\n",
    "plt.xlabel(\"Episodes\")\n",
    "plt.ylabel(\"Epslion Threshold\")\n",
    "plt.title(\"DDQN Losses with Positive Pellet Rewards\")\n",
    "plt.show()"
   ]
  },
  {
   "cell_type": "code",
   "execution_count": null,
   "metadata": {},
   "outputs": [
    {
     "data": {
      "image/png": "[encoded data removed]",
      "text/plain": [
       "<Figure size 640x480 with 2 Axes>"
      ]
     },
     "metadata": {},
     "output_type": "display_data"
    }
   ],
   "source": [
    "# sns.lineplot(x=np.arange(episodes), y=episodes_returns[0])\n",
    "# # plt.xkcd(scale=0)\n",
    "# # mpl.rcParams.update(mpl.rcParamsDefault)\n",
    "# # plt.rcdefaults()\n",
    "# plt.figure(figsize=(50, 100))\n",
    "# plt.show()\n",
    "# # plt.savefig(fname='DDQN-GRU-PosPellet.png')\n",
    "\n",
    "fig, ax = plt.subplots()\n",
    "sns.lineplot(x=np.arange(episodes), y=episodes_returns[0], ax=ax, label='Returns')\n",
    "plt.legend(loc='upper right')\n",
    "plt.ylabel(\"Returns\")\n",
    "# sns.regplot(x='round', y='money', data=firm, ax=ax)\n",
    "ax2 = ax.twinx()\n",
    "sns.lineplot(x=np.arange(episodes), y=eps_thresh(), ax=ax2, color='r', label='Epsilon Threshold')\n",
    "# sb.regplot(x='round', y='dead', data=firm, ax=ax2, color='r')\n",
    "plt.legend(loc='upper left')\n",
    "plt.xlabel(\"Episodes\")\n",
    "plt.ylabel(\"Epslion Threshold\")\n",
    "plt.title(\"DDQN Returns with Positive Pellet Rewards\")\n",
    "plt.show()"
   ]
  },
  {
   "cell_type": "code",
   "execution_count": null,
   "metadata": {},
   "outputs": [],
   "source": [
    "plt.imshow(curr_obs[0][0][1].astype(np.int), cmap='gray')"
   ]
  },
  {
   "cell_type": "code",
   "execution_count": null,
   "metadata": {},
   "outputs": [],
   "source": [
    "plt.imshow(curr_obs[0][0][0].astype(np.int), cmap='gray')"
   ]
  },
  {
   "cell_type": "code",
   "execution_count": null,
   "metadata": {},
   "outputs": [],
   "source": [
    "models[0].policy_net((torch.tensor(curr_obs[0][0]), torch.tensor(curr_obs[0][1]), torch.tensor(curr_obs[0][2]), torch.tensor(curr_obs[0][3])))"
   ]
  },
  {
   "cell_type": "code",
   "execution_count": null,
   "metadata": {},
   "outputs": [],
   "source": [
    "models[0].select_action(curr_obs[0])"
   ]
  },
  {
   "cell_type": "code",
   "execution_count": null,
   "metadata": {},
   "outputs": [],
   "source": [
    "models[0].steps_done"
   ]
  }
 ],
 "metadata": {
  "kernelspec": {
   "display_name": "RL",
   "language": "python",
   "name": "python3"
  },
  "language_info": {
   "codemirror_mode": {
    "name": "ipython",
    "version": 3
   },
   "file_extension": ".py",
   "mimetype": "text/x-python",
   "name": "python",
   "nbconvert_exporter": "python",
   "pygments_lexer": "ipython3",
   "version": "3.10.9"
  }
 },
 "nbformat": 4,
 "nbformat_minor": 2
}
